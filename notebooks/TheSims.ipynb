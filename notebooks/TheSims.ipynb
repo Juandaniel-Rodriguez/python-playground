{
 "cells": [
  {
   "cell_type": "code",
   "execution_count": 1,
   "id": "4104937e",
   "metadata": {},
   "outputs": [],
   "source": [
    "import random\n",
    "import time"
   ]
  },
  {
   "cell_type": "code",
   "execution_count": 2,
   "id": "fffed0d1",
   "metadata": {},
   "outputs": [],
   "source": [
    "class Disease:\n",
    "    def __init__(self,name, symptoms, fatal, severity):\n",
    "        self.name = name\n",
    "        # list strings\n",
    "        self.symptoms = symptoms\n",
    "        # this is going to be a boolean\n",
    "        self.fatal = fatal\n",
    "        #this will be on a scale from 1-10\n",
    "        self.severity = severity\n",
    "   \n",
    "\n",
    "    @property\n",
    "    def prognosis(self):\n",
    "        return f'congratulations ... you have {self.name} with symptoms {self.symptoms}'\n",
    "    \n",
    "    \n",
    "    \n",
    "    \n",
    "    "
   ]
  },
  {
   "cell_type": "code",
   "execution_count": 3,
   "id": "b2492a53",
   "metadata": {},
   "outputs": [],
   "source": [
    "class Career:\n",
    "    def __init__(self, name, salary, industry):\n",
    "        #TODO: excluding social_level until later\n",
    "        self.name = name\n",
    "        self.salary = salary\n",
    "        self.industry = industry\n",
    "  #TODO: duplicate less code for increase& decrease salary      \n",
    "    def promotion(self):\n",
    "        pct_increase = random.randint(0,1)\n",
    "        self.salary += self.salary * pct_increase\n",
    "        \n",
    "    def demotion(self):\n",
    "        pct_decrease = random.randint(0,1)\n",
    "        self.salary -= self.salary *pct_decrease"
   ]
  },
  {
   "cell_type": "code",
   "execution_count": 4,
   "id": "9371522f",
   "metadata": {},
   "outputs": [],
   "source": [
    "class Enviroment:\n",
    "    def __init__(self, civilization_level):\n",
    "        # civilization_level is on the scale 1-3 where 1-3 correspond to 1st,2nd and 3rd world country\n",
    "        self.civilization_level = civilization_level\n",
    "    "
   ]
  },
  {
   "cell_type": "code",
   "execution_count": 5,
   "id": "fbee0e29",
   "metadata": {},
   "outputs": [],
   "source": [
    "class Sim:\n",
    "    def __init__(self, \n",
    "                 first_name, \n",
    "                 last_name, \n",
    "                 height, \n",
    "                 weight, \n",
    "                 charisma, \n",
    "                 enviroment,\n",
    "                 intelligence,\n",
    "                 dexterity, \n",
    "                 possible_diseases\n",
    "                 ):\n",
    "        self.first_name = first_name\n",
    "        self.last_name = last_name\n",
    "        self.height = height\n",
    "        self.weight = weight\n",
    "        #The sim starts as a baby\n",
    "        self.age = 0\n",
    "        # Charisma will be on the scale of 1-10 and is static\n",
    "             #(but means different things relative to age)\n",
    "        self.charisma = charisma    \n",
    "        # enviroment is going to be an Enviroment object\n",
    "        self.enviroment = enviroment \n",
    "        # Intelligence is going to be on the scale of 1-10 and is static\n",
    "        self.intelligence = intelligence\n",
    "        #dexterity is on a scale of 1-10\n",
    "        self.dexterity = dexterity\n",
    "           # static unless we have extra time in which it is capable of increasing\n",
    "         #life_expectansy will be random from ages 5 and 120\n",
    "        self.life_expectancy = random.randint(5,120)\n",
    "        #posible diesease is a list of disease objects\n",
    "        self._possible_diseases = possible_diseases\n",
    "        self.diseases = []\n",
    "        self.is_alive = True\n",
    " \n",
    "    @property\n",
    "    def full_name(self):\n",
    "        return f'{self.first_name} {self.last_name}'\n",
    "    \n",
    "    def birthday(self):\n",
    "        self.age += 1\n",
    "        print(f' congrats! you turned {self.age}')\n",
    "        \n",
    "        \n",
    "        got_disease = random.choices([True, False], weights = [0.5,0.5])[0]\n",
    "        \n",
    "        if got_disease:\n",
    "            disease = random.choice(self._possible_diseases)\n",
    "            \n",
    "            if disease not in self.diseases:\n",
    "                print(f'you got a disiease')\n",
    "                print(disease.prognosis)\n",
    "                self.diseases.append(disease)\n",
    "            \n",
    "        # as age increases so does the likelyhood of desease\n",
    "        # create 2 random numbers between self.age\n",
    "        #the minimum of those will be the weight of getting a disease\n",
    "        #the maximum of those will be the weight of getting a disease\n",
    "        \n",
    "        if self.age == self.life_expectancy:\n",
    "            print('You have died')\n",
    "            self.is_alive = False\n",
    "        \n",
    "        \n",
    "        \n",
    "        "
   ]
  },
  {
   "cell_type": "code",
   "execution_count": 6,
   "id": "da99d1aa",
   "metadata": {},
   "outputs": [],
   "source": [
    "rabies = Disease(name= 'rabies', symptoms= ['mouth foam'], fatal= True, severity=8)\n",
    "ebola = Disease (name= 'ebola', symptoms=['bleeding orfices'], fatal=True, severity=10)\n",
    "black_plague = Disease(name= 'black plague', symptoms=['dissentary'], fatal=False, severity=5)\n",
    "\n",
    "possible_diseases = [rabies, ebola, black_plague]"
   ]
  },
  {
   "cell_type": "code",
   "execution_count": 7,
   "id": "8cfe7554",
   "metadata": {},
   "outputs": [],
   "source": [
    "first_world = Enviroment(civilization_level=1)\n",
    "secon_world = Enviroment(civilization_level=2)\n",
    "third_world = Enviroment(civilization_level=3)"
   ]
  },
  {
   "cell_type": "code",
   "execution_count": 8,
   "id": "df523cd6",
   "metadata": {},
   "outputs": [],
   "source": [
    "sim1 = Sim(first_name = \"pablo\", \n",
    "           last_name = \"Escobar\",\n",
    "           height = 6, \n",
    "           weight= 200,\n",
    "           charisma=10,\n",
    "           enviroment =third_world,\n",
    "           intelligence = 8,\n",
    "           dexterity=10,\n",
    "           possible_diseases = possible_diseases) "
   ]
  },
  {
   "cell_type": "code",
   "execution_count": 9,
   "id": "a43ff8a8",
   "metadata": {},
   "outputs": [
    {
     "ename": "NameError",
     "evalue": "name 'full_name' is not defined",
     "output_type": "error",
     "traceback": [
      "\u001b[0;31m---------------------------------------------------------------------------\u001b[0m",
      "\u001b[0;31mNameError\u001b[0m                                 Traceback (most recent call last)",
      "Input \u001b[0;32mIn [9]\u001b[0m, in \u001b[0;36m<cell line: 1>\u001b[0;34m()\u001b[0m\n\u001b[1;32m      1\u001b[0m \u001b[38;5;28;01mwhile\u001b[39;00m sim1\u001b[38;5;241m.\u001b[39mis_alive:\n\u001b[0;32m----> 2\u001b[0m     \u001b[38;5;28mprint\u001b[39m(\u001b[43mfull_name\u001b[49m)\n\u001b[1;32m      3\u001b[0m     time\u001b[38;5;241m.\u001b[39msleep(\u001b[38;5;241m0.5\u001b[39m)\n\u001b[1;32m      4\u001b[0m     sim1\u001b[38;5;241m.\u001b[39mbirthday()\n",
      "\u001b[0;31mNameError\u001b[0m: name 'full_name' is not defined"
     ]
    }
   ],
   "source": [
    "while sim1.is_alive:\n",
    "    \n",
    "    time.sleep(0.5)\n",
    "    sim1.birthday()\n"
   ]
  },
  {
   "cell_type": "code",
   "execution_count": null,
   "id": "fd86b347",
   "metadata": {},
   "outputs": [],
   "source": []
  },
  {
   "cell_type": "code",
   "execution_count": null,
   "id": "97d840bd",
   "metadata": {},
   "outputs": [],
   "source": []
  },
  {
   "cell_type": "code",
   "execution_count": null,
   "id": "17a0358d",
   "metadata": {},
   "outputs": [],
   "source": []
  }
 ],
 "metadata": {
  "kernelspec": {
   "display_name": "Python 3 (ipykernel)",
   "language": "python",
   "name": "python3"
  },
  "language_info": {
   "codemirror_mode": {
    "name": "ipython",
    "version": 3
   },
   "file_extension": ".py",
   "mimetype": "text/x-python",
   "name": "python",
   "nbconvert_exporter": "python",
   "pygments_lexer": "ipython3",
   "version": "3.10.4"
  }
 },
 "nbformat": 4,
 "nbformat_minor": 5
}
