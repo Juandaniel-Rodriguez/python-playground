{
 "cells": [
  {
   "cell_type": "code",
   "execution_count": 112,
   "id": "c07e2b04",
   "metadata": {},
   "outputs": [],
   "source": [
    "class person: \n",
    "    \n",
    "    def __init__ (self, height, weight, first_name, last_name,age):\n",
    "        self.height = height\n",
    "        self.wight = weight\n",
    "        self.first_name = first_name\n",
    "        self.last_name = last_name\n",
    "        self.age = age\n",
    "        \n",
    "    def have_birthday(self):\n",
    "        self.age += 1\n",
    "        print(f'Happy Birthday {self.full_name}! You turned {self.age}')\n",
    "        \n",
    "    def legal_name_change(self, new_first_name=None , new_last_name=None):\n",
    "      \n",
    "        if new_first_name is not None:\n",
    "            self.first_name = new_first_name\n",
    "        if new_last_name is not None:\n",
    "            self.last_name= new_last_name\n",
    "     \n",
    "    @property\n",
    "    def full_name(self):\n",
    "        return f'{self.first_name} {self.last_name}'"
   ]
  },
  {
   "cell_type": "code",
   "execution_count": 113,
   "id": "4feb7c1f",
   "metadata": {},
   "outputs": [],
   "source": [
    "fred = person(height = 20, weight = 100, first_name='fredrick', last_name='wick', age= 10)"
   ]
  },
  {
   "cell_type": "code",
   "execution_count": 114,
   "id": "705d53c2",
   "metadata": {},
   "outputs": [
    {
     "data": {
      "text/plain": [
       "20"
      ]
     },
     "execution_count": 114,
     "metadata": {},
     "output_type": "execute_result"
    }
   ],
   "source": [
    "fred.height"
   ]
  },
  {
   "cell_type": "code",
   "execution_count": 115,
   "id": "a3b8efeb",
   "metadata": {},
   "outputs": [
    {
     "data": {
      "text/plain": [
       "'fredrick'"
      ]
     },
     "execution_count": 115,
     "metadata": {},
     "output_type": "execute_result"
    }
   ],
   "source": [
    "fred.first_name"
   ]
  },
  {
   "cell_type": "code",
   "execution_count": 116,
   "id": "70d1bd89",
   "metadata": {},
   "outputs": [
    {
     "data": {
      "text/plain": [
       "'wick'"
      ]
     },
     "execution_count": 116,
     "metadata": {},
     "output_type": "execute_result"
    }
   ],
   "source": [
    "fred.last_name"
   ]
  },
  {
   "cell_type": "code",
   "execution_count": 117,
   "id": "8017926a",
   "metadata": {},
   "outputs": [
    {
     "data": {
      "text/plain": [
       "'fredrick wick'"
      ]
     },
     "execution_count": 117,
     "metadata": {},
     "output_type": "execute_result"
    }
   ],
   "source": [
    "fred.full_name"
   ]
  },
  {
   "cell_type": "code",
   "execution_count": 118,
   "id": "f5f61ce6",
   "metadata": {},
   "outputs": [
    {
     "data": {
      "text/plain": [
       "10"
      ]
     },
     "execution_count": 118,
     "metadata": {},
     "output_type": "execute_result"
    }
   ],
   "source": [
    "fred.age"
   ]
  },
  {
   "cell_type": "code",
   "execution_count": 119,
   "id": "ca141dad",
   "metadata": {},
   "outputs": [
    {
     "name": "stdout",
     "output_type": "stream",
     "text": [
      "Happy Birthday fredrick wick! You turned 11\n"
     ]
    }
   ],
   "source": [
    "fred.have_birthday()"
   ]
  },
  {
   "cell_type": "code",
   "execution_count": 120,
   "id": "fedcc184",
   "metadata": {},
   "outputs": [
    {
     "data": {
      "text/plain": [
       "11"
      ]
     },
     "execution_count": 120,
     "metadata": {},
     "output_type": "execute_result"
    }
   ],
   "source": [
    "fred.age"
   ]
  },
  {
   "cell_type": "code",
   "execution_count": 121,
   "id": "1d38f850",
   "metadata": {},
   "outputs": [],
   "source": [
    "fred.legal_name_change(new_first_name = 'rachel')\n"
   ]
  },
  {
   "cell_type": "code",
   "execution_count": 122,
   "id": "3c7488f1",
   "metadata": {},
   "outputs": [
    {
     "data": {
      "text/plain": [
       "'rachel'"
      ]
     },
     "execution_count": 122,
     "metadata": {},
     "output_type": "execute_result"
    }
   ],
   "source": [
    "fred.first_name"
   ]
  },
  {
   "cell_type": "code",
   "execution_count": 123,
   "id": "4a643f2b",
   "metadata": {},
   "outputs": [
    {
     "data": {
      "text/plain": [
       "'rachel wick'"
      ]
     },
     "execution_count": 123,
     "metadata": {},
     "output_type": "execute_result"
    }
   ],
   "source": [
    "fred.full_name"
   ]
  },
  {
   "cell_type": "code",
   "execution_count": null,
   "id": "0ce8c7ec",
   "metadata": {},
   "outputs": [],
   "source": []
  },
  {
   "cell_type": "code",
   "execution_count": null,
   "id": "c1d429d5",
   "metadata": {},
   "outputs": [],
   "source": []
  }
 ],
 "metadata": {
  "kernelspec": {
   "display_name": "Python 3 (ipykernel)",
   "language": "python",
   "name": "python3"
  },
  "language_info": {
   "codemirror_mode": {
    "name": "ipython",
    "version": 3
   },
   "file_extension": ".py",
   "mimetype": "text/x-python",
   "name": "python",
   "nbconvert_exporter": "python",
   "pygments_lexer": "ipython3",
   "version": "3.10.4"
  }
 },
 "nbformat": 4,
 "nbformat_minor": 5
}
