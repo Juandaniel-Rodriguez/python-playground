{
 "cells": [
  {
   "cell_type": "code",
   "execution_count": 15,
   "id": "d21051f7",
   "metadata": {},
   "outputs": [],
   "source": [
    "\n",
    "import random\n",
    "\n",
    "\n",
    "class disease:\n",
    "    @property\n",
    "    def name(self):\n",
    "        \n",
    "        return 'no diesease.'\n",
    "    \n",
    "    \n",
    "    @property\n",
    "    def symptoms(self):\n",
    "    \n",
    "        return ['healthy','Disease free']\n",
    "    \n",
    "    @property\n",
    "    def message_from_doctor(self):\n",
    "        return f' Congrats you have {self.name} with {self.symptoms}'\n",
    "    \n",
    "class rabies(disease):   \n",
    "    \n",
    "    \n",
    "    @property\n",
    "    def name(self):\n",
    "        return \"rabies\"\n",
    "    \n",
    "    \n",
    "    @property\n",
    "    def symptoms(self):\n",
    "        return ['Mouth foaming']\n",
    "diseases = [rabies, disease]\n",
    "\n",
    "\n",
    "\n",
    "class person: \n",
    "    \n",
    "    def __init__ (self, height, weight, first_name, last_name,age):\n",
    "        self.height = height\n",
    "        self.wight = weight\n",
    "        self.first_name = first_name\n",
    "        self.last_name = last_name\n",
    "        self.age = age\n",
    "        self.death = random.randint(1,120)\n",
    "        self.disease_onset = random.randint(1,80)\n",
    "        self._disease = random.choice(diseases)\n",
    "        self.disease = self._disease()\n",
    "        \n",
    "    def have_birthday(self):\n",
    "        self.age += 1\n",
    "        print(f'Happy Birthday {self.full_name}! You turned {self.age}')\n",
    "        \n",
    "    def legal_name_change(self, new_first_name=None , new_last_name=None):\n",
    "      \n",
    "        if new_first_name is not None:\n",
    "            self.first_name = new_first_name\n",
    "        if new_last_name is not None:\n",
    "            self.last_name= new_last_name\n",
    "     \n",
    "    \n",
    "    @property\n",
    "    def full_name(self):\n",
    "        return f'{self.first_name} {self.last_name}'\n",
    "    \n",
    "    \n",
    "    @property\n",
    "    def health(self):\n",
    "        if self.age >= self.death:\n",
    "            return \"Grim Reaper\"\n",
    "        \n",
    "        elif self.age<25:\n",
    "            return \"Great!\"\n",
    "        elif self.age>=25 and self.age<40:\n",
    "            return \"Good!\"\n",
    "        elif self.age>=40 and self.age<60:\n",
    "            return \"Bad!\"\n",
    "        else: \n",
    "            return \"Really bad\"\n",
    "       \n",
    "    \n",
    "    \n",
    "class ben_button(person):\n",
    "    \n",
    "    def have_birthday(self):\n",
    "        self.age -= 1\n",
    "        print(f'Happy Birthday {self.full_name}! You turned {self.age}')\n",
    "    "
   ]
  },
  {
   "cell_type": "code",
   "execution_count": 16,
   "id": "deba4dea",
   "metadata": {},
   "outputs": [],
   "source": [
    "d = rabies()"
   ]
  },
  {
   "cell_type": "code",
   "execution_count": 17,
   "id": "445295e3",
   "metadata": {},
   "outputs": [
    {
     "data": {
      "text/plain": [
       "\" Congrats you have rabies with ['Mouth foaming']\""
      ]
     },
     "execution_count": 17,
     "metadata": {},
     "output_type": "execute_result"
    }
   ],
   "source": [
    "d.message_from_doctor"
   ]
  },
  {
   "cell_type": "code",
   "execution_count": 18,
   "id": "cf2034b1",
   "metadata": {},
   "outputs": [],
   "source": [
    "fred = person(height = 20, weight = 100, first_name='fredrick', last_name='wick', age= 10)"
   ]
  },
  {
   "cell_type": "code",
   "execution_count": 20,
   "id": "566bc9a0",
   "metadata": {},
   "outputs": [
    {
     "data": {
      "text/plain": [
       "'no diesease.'"
      ]
     },
     "execution_count": 20,
     "metadata": {},
     "output_type": "execute_result"
    }
   ],
   "source": [
    "fred.disease.name"
   ]
  },
  {
   "cell_type": "code",
   "execution_count": 21,
   "id": "f5fbe1b1",
   "metadata": {},
   "outputs": [
    {
     "data": {
      "text/plain": [
       "'no diesease.'"
      ]
     },
     "execution_count": 21,
     "metadata": {},
     "output_type": "execute_result"
    }
   ],
   "source": [
    "fred.disease.name"
   ]
  },
  {
   "cell_type": "code",
   "execution_count": 22,
   "id": "c2898344",
   "metadata": {},
   "outputs": [
    {
     "data": {
      "text/plain": [
       "'no diesease.'"
      ]
     },
     "execution_count": 22,
     "metadata": {},
     "output_type": "execute_result"
    }
   ],
   "source": [
    "fred.disease.name"
   ]
  },
  {
   "cell_type": "code",
   "execution_count": 23,
   "id": "84b281ab",
   "metadata": {},
   "outputs": [
    {
     "data": {
      "text/plain": [
       "'no diesease.'"
      ]
     },
     "execution_count": 23,
     "metadata": {},
     "output_type": "execute_result"
    }
   ],
   "source": [
    "fred.disease.name"
   ]
  },
  {
   "cell_type": "code",
   "execution_count": 24,
   "id": "4ab42982",
   "metadata": {},
   "outputs": [
    {
     "data": {
      "text/plain": [
       "'no diesease.'"
      ]
     },
     "execution_count": 24,
     "metadata": {},
     "output_type": "execute_result"
    }
   ],
   "source": [
    "fred.disease.name"
   ]
  },
  {
   "cell_type": "code",
   "execution_count": 25,
   "id": "a26e3e85",
   "metadata": {},
   "outputs": [
    {
     "data": {
      "text/plain": [
       "\" Congrats you have no diesease. with ['healthy', 'Disease free']\""
      ]
     },
     "execution_count": 25,
     "metadata": {},
     "output_type": "execute_result"
    }
   ],
   "source": [
    "fred.disease.message_from_doctor"
   ]
  },
  {
   "cell_type": "code",
   "execution_count": null,
   "id": "c352cc61",
   "metadata": {},
   "outputs": [],
   "source": []
  }
 ],
 "metadata": {
  "kernelspec": {
   "display_name": "Python 3 (ipykernel)",
   "language": "python",
   "name": "python3"
  },
  "language_info": {
   "codemirror_mode": {
    "name": "ipython",
    "version": 3
   },
   "file_extension": ".py",
   "mimetype": "text/x-python",
   "name": "python",
   "nbconvert_exporter": "python",
   "pygments_lexer": "ipython3",
   "version": "3.10.4"
  }
 },
 "nbformat": 4,
 "nbformat_minor": 5
}
